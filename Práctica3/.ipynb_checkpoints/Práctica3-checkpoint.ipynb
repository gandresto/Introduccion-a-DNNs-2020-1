{
 "cells": [
  {
   "cell_type": "markdown",
   "metadata": {},
   "source": [
    "# Práctica 3. Método del Gradiente Descendente\n",
    "\n",
    "Función hipótesis: h(x)=theta\\*x\n",
    "\n",
    "Función de costo: error mínimo cuadrado"
   ]
  },
  {
   "cell_type": "code",
   "execution_count": 1,
   "metadata": {},
   "outputs": [],
   "source": [
    "from gradesc import gradesc, fc_min_cuadrados\n",
    "import matplotlib.pyplot as plt"
   ]
  },
  {
   "cell_type": "code",
   "execution_count": 2,
   "metadata": {},
   "outputs": [],
   "source": [
    "# Valores de entrenamiento\n",
    "x=[1,2,3]\n",
    "y=[2,4,5.8]"
   ]
  },
  {
   "cell_type": "code",
   "execution_count": 3,
   "metadata": {},
   "outputs": [],
   "source": [
    "# Parámetros iniciales\n",
    "theta = 1\n",
    "lr = 0.1\n",
    "iterac = 3"
   ]
  },
  {
   "cell_type": "code",
   "execution_count": 4,
   "metadata": {},
   "outputs": [
    {
     "name": "stdout",
     "output_type": "stream",
     "text": [
      "Theta despúes de 3 iteraciones: 1.8119\n",
      "Error despúes de 3 iteraciones: 0.0221\n"
     ]
    }
   ],
   "source": [
    "theta = gradesc(x, y, theta, lr, iterac)\n",
    "print('Theta despúes de %i iteraciones: %.4f' % (iterac, theta))\n",
    "error = fc_min_cuadrados(x, y, theta)\n",
    "print('Error despúes de %i iteraciones: %.4f' % (iterac, error))"
   ]
  },
  {
   "cell_type": "markdown",
   "metadata": {},
   "source": [
    "## Parar el entrenamiento\n",
    "Paramos el entrenamiento cuando el los valores de theta no cambien"
   ]
  },
  {
   "cell_type": "code",
   "execution_count": 5,
   "metadata": {},
   "outputs": [
    {
     "name": "stdout",
     "output_type": "stream",
     "text": [
      "Theta despúes de 1 iteraciones: 1.4467\n",
      "Error despúes de 1 iteraciones: 0.3553\n",
      "Theta despúes de 2 iteraciones: 1.6849\n",
      "Error despúes de 2 iteraciones: 0.0926\n",
      "Theta despúes de 3 iteraciones: 1.8119\n",
      "Error despúes de 3 iteraciones: 0.0221\n",
      "Theta despúes de 4 iteraciones: 1.8797\n",
      "Error despúes de 4 iteraciones: 0.0043\n",
      "Theta despúes de 5 iteraciones: 1.9158\n",
      "Error despúes de 5 iteraciones: 0.0005\n",
      "Theta despúes de 6 iteraciones: 1.9351\n",
      "Error despúes de 6 iteraciones: 0.0000\n",
      "Theta despúes de 7 iteraciones: 1.9454\n",
      "Error despúes de 7 iteraciones: 0.0002\n",
      "Theta despúes de 8 iteraciones: 1.9509\n",
      "Error despúes de 8 iteraciones: 0.0005\n",
      "Theta despúes de 9 iteraciones: 1.9538\n",
      "Error despúes de 9 iteraciones: 0.0006\n",
      "Theta despúes de 10 iteraciones: 1.9554\n",
      "Error despúes de 10 iteraciones: 0.0007\n",
      "Theta despúes de 11 iteraciones: 1.9562\n",
      "Error despúes de 11 iteraciones: 0.0008\n",
      "Theta despúes de 12 iteraciones: 1.9566\n",
      "Error despúes de 12 iteraciones: 0.0008\n",
      "Theta despúes de 13 iteraciones: 1.9569\n",
      "Error despúes de 13 iteraciones: 0.0008\n",
      "Theta despúes de 14 iteraciones: 1.9570\n",
      "Error despúes de 14 iteraciones: 0.0008\n",
      "Theta despúes de 15 iteraciones: 1.9571\n",
      "Error despúes de 15 iteraciones: 0.0008\n"
     ]
    }
   ],
   "source": [
    "hist_theta = []\n",
    "hist_error = []\n",
    "theta = 1\n",
    "temp = 1000\n",
    "cond_paro = 0.0001\n",
    "i = 0\n",
    "while abs(temp-theta)>cond_paro:\n",
    "    i+=1\n",
    "    temp = theta\n",
    "    theta = gradesc(x, y, theta, lr)\n",
    "    print('Theta despúes de %i iteraciones: %.4f' % (i, theta))\n",
    "    error = fc_min_cuadrados(x, y, theta)\n",
    "    print('Error despúes de %i iteraciones: %.4f' % (i, error))\n",
    "    \n",
    "    hist_theta.append(theta)\n",
    "    hist_error.append(error)"
   ]
  },
  {
   "cell_type": "code",
   "execution_count": 6,
   "metadata": {},
   "outputs": [
    {
     "data": {
      "text/plain": [
       "[<matplotlib.lines.Line2D at 0x21e5f5d2390>]"
      ]
     },
     "execution_count": 6,
     "metadata": {},
     "output_type": "execute_result"
    },
    {
     "data": {
      "image/png": "[encoded data removed]",
      "text/plain": [
       "<Figure size 432x288 with 1 Axes>"
      ]
     },
     "metadata": {
      "needs_background": "light"
     },
     "output_type": "display_data"
    }
   ],
   "source": [
    "plt.title('Valor de theta a través de las iteraciones')\n",
    "plt.plot(hist_theta)"
   ]
  },
  {
   "cell_type": "code",
   "execution_count": 7,
   "metadata": {},
   "outputs": [
    {
     "data": {
      "text/plain": [
       "[<matplotlib.lines.Line2D at 0x21e5f66bf98>]"
      ]
     },
     "execution_count": 7,
     "metadata": {},
     "output_type": "execute_result"
    },
    {
     "data": {
      "image/png": "[encoded data removed]",
      "text/plain": [
       "<Figure size 432x288 with 1 Axes>"
      ]
     },
     "metadata": {
      "needs_background": "light"
     },
     "output_type": "display_data"
    }
   ],
   "source": [
    "plt.title('Error a través de las iteraciones')\n",
    "plt.plot(hist_error)"
   ]
  },
  {
   "cell_type": "code",
   "execution_count": null,
   "metadata": {},
   "outputs": [],
   "source": []
  }
 ],
 "metadata": {
  "kernelspec": {
   "display_name": "Python 3",
   "language": "python",
   "name": "python3"
  },
  "language_info": {
   "codemirror_mode": {
    "name": "ipython",
    "version": 3
   },
   "file_extension": ".py",
   "mimetype": "text/x-python",
   "name": "python",
   "nbconvert_exporter": "python",
   "pygments_lexer": "ipython3",
   "version": "3.6.8"
  }
 },
 "nbformat": 4,
 "nbformat_minor": 2
}
