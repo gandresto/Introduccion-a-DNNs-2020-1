{
 "cells": [
  {
   "cell_type": "markdown",
   "metadata": {},
   "source": [
    "# Práctica 4. Perceptrón simple\n",
    "\n",
    "González Flores Andrés\n",
    "\n",
    "## Ejercicio 1\n",
    "\n",
    "Entrenar un perceptrón simple con el algoritmo de pasos decendentes con los puntos P = { {1, -1, -1}, {1, 1, -1}} con t = {0,1}\n",
    "\n",
    "Condiciones iniciales w = {1, -1, -0.5}, b=1\n",
    "\n",
    "**Código de perceptron.py**\n",
    "\n",
    "``` python\n",
    "import numpy as np\n",
    "\n",
    "def hardlim(x):\n",
    "    return 1 if x>0 else 0\n",
    "\n",
    "def afn(x, w, b):\n",
    "    return hardlim(np.dot(w, x.T)+b)\n",
    "\n",
    "def efn(t, a):\n",
    "    return t-a\n",
    "\n",
    "def reglaApr(w_ant, b_ant, e, p, lr=1):\n",
    "    w_nuevo = w_ant + lr*e*p\n",
    "    b_nuevo = b_ant + lr*e\n",
    "    return w_nuevo, b_nuevo\n",
    "```\n",
    "\n",
    "**p4ej1.py**"
   ]
  },
  {
   "cell_type": "code",
   "execution_count": 4,
   "metadata": {},
   "outputs": [],
   "source": [
    "import numpy as np\n",
    "import perceptron as per\n",
    "import matplotlib.pyplot as plt\n",
    "\n",
    "p_vect = [np.matrix([1, -1, -1]), np.matrix([1, 1, -1])]\n",
    "t_vect = [0, 1]\n",
    "\n",
    "w = np.matrix([1, -1, -0.5])\n",
    "b = np.matrix([1])\n",
    "\n",
    "epochs = 10\n",
    "e_vect = []\n",
    "\n",
    "for i in range(epochs):\n",
    "    for p, t in zip(p_vect, t_vect):\n",
    "        #print('Para el punto p = ', p)\n",
    "        a = per.afn(p, w, b)\n",
    "        #print('a = ', a)\n",
    "        e = per.efn(t, a)\n",
    "        e_vect.append(e)\n",
    "        #print('e = ', e)\n",
    "        w, b = per.reglaApr(w, b, e, p)\n",
    "        #print('w = ', w)\n",
    "        #print('b = ', b)\n",
    "        #print(\"Epoca %d, Error = %d\" % (i, e))"
   ]
  },
  {
   "cell_type": "code",
   "execution_count": 5,
   "metadata": {},
   "outputs": [
    {
     "data": {
      "image/png": "[encoded data removed]",
      "text/plain": [
       "<Figure size 432x288 with 1 Axes>"
      ]
     },
     "metadata": {
      "needs_background": "light"
     },
     "output_type": "display_data"
    }
   ],
   "source": [
    "plt.plot(e_vect)\n",
    "plt.title('Error vs iteraciones')\n",
    "plt.ylabel('Error')\n",
    "plt.xlabel('Iteraciones')\n",
    "plt.show()"
   ]
  },
  {
   "cell_type": "markdown",
   "metadata": {},
   "source": [
    "## Ejercicio 1\n",
    "\n",
    "Entrenar un perceptrón simple con el algoritmo de pasos decendentes con los puntos P = {{1,1}, {1,0}, {1,2}, {5,1}, {0,-1}, {-1,0}, {-2,-1}, {-3,-2}} con t = {0,0,0,0,1,1,1,1}"
   ]
  },
  {
   "cell_type": "code",
   "execution_count": 8,
   "metadata": {},
   "outputs": [
    {
     "name": "stdout",
     "output_type": "stream",
     "text": [
      "Epoca 0 (0/8), Error = -1\n",
      "Epoca 0 (4/8), Error = 1\n",
      "Epoca 1 (0/8), Error = 0\n",
      "Epoca 1 (4/8), Error = 0\n",
      "Epoca 2 (0/8), Error = 0\n",
      "Epoca 2 (4/8), Error = 0\n"
     ]
    }
   ],
   "source": [
    "import numpy as np\n",
    "import perceptron as per\n",
    "import matplotlib.pyplot as plt\n",
    "\n",
    "p_vect = [[1,1], [1,0], [1,2], [5,1], [0,-1], [-1,0], [-2,-1], [-3,-2]]\n",
    "p_vect = [np.matrix(p) for p in p_vect]\n",
    "t_vect = [0,0,0,0,1,1,1,1]\n",
    "\n",
    "w = np.matrix(np.random.rand(2))\n",
    "b = np.matrix(np.random.rand(1))\n",
    "\n",
    "lr = 0.5\n",
    "epochs = 3\n",
    "e_vect = []\n",
    "\n",
    "for epoch in range(epochs):\n",
    "    for i, p in enumerate(p_vect):\n",
    "        # print('Para el punto p = ', p)\n",
    "        a = per.afn(p, w, b)\n",
    "        # print('a = ', a)\n",
    "        e = per.efn(t_vect[i], a)\n",
    "        e_vect.append(e)\n",
    "        # print('e = ', e)\n",
    "        w, b = per.reglaApr(w, b, e, p, lr)\n",
    "        # print('w = ', w)\n",
    "        # print('b = ', b)\n",
    "        if i % 4 == 0:\n",
    "            print(\"Epoca %d (%i/%i), Error = %d\" % (epoch, i, len(p_vect), e))"
   ]
  },
  {
   "cell_type": "code",
   "execution_count": 9,
   "metadata": {},
   "outputs": [
    {
     "data": {
      "image/png": "[encoded data removed]",
      "text/plain": [
       "<Figure size 432x288 with 1 Axes>"
      ]
     },
     "metadata": {
      "needs_background": "light"
     },
     "output_type": "display_data"
    }
   ],
   "source": [
    "plt.plot(e_vect)\n",
    "plt.title('Error vs iteraciones')\n",
    "plt.ylabel('Error')\n",
    "plt.xlabel('Iteraciones')\n",
    "plt.show()"
   ]
  },
  {
   "cell_type": "code",
   "execution_count": null,
   "metadata": {},
   "outputs": [],
   "source": []
  }
 ],
 "metadata": {
  "kernelspec": {
   "display_name": "'Python Interactive'",
   "language": "python",
   "name": "5cd04153-f86d-40ea-8554-fa26c536e0d7"
  },
  "language_info": {
   "codemirror_mode": {
    "name": "ipython",
    "version": 3
   },
   "file_extension": ".py",
   "mimetype": "text/x-python",
   "name": "python",
   "nbconvert_exporter": "python",
   "pygments_lexer": "ipython3",
   "version": "3.6.8"
  }
 },
 "nbformat": 4,
 "nbformat_minor": 2
}
