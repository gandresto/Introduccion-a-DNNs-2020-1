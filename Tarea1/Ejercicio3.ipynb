{
 "cells": [
  {
   "cell_type": "code",
   "execution_count": 1,
   "metadata": {},
   "outputs": [],
   "source": [
    "import numpy as np\n",
    "import matplotlib.pyplot as plt"
   ]
  },
  {
   "cell_type": "code",
   "execution_count": 2,
   "metadata": {},
   "outputs": [],
   "source": [
    "X = range(4)\n",
    "Y = [17.5,23.5,18.2,21.0]"
   ]
  },
  {
   "cell_type": "code",
   "execution_count": 3,
   "metadata": {},
   "outputs": [
    {
     "data": {
      "image/png": "[encoded data removed]",
      "text/plain": [
       "<Figure size 432x288 with 1 Axes>"
      ]
     },
     "metadata": {
      "needs_background": "light"
     },
     "output_type": "display_data"
    }
   ],
   "source": [
    "plt.scatter(X,Y)\n",
    "plt.show()"
   ]
  },
  {
   "cell_type": "code",
   "execution_count": 4,
   "metadata": {},
   "outputs": [],
   "source": [
    "def h(x, th1, th2):\n",
    "    return th1*x**2+th2\n",
    "\n",
    "def der_fc_th1(X, Y, th1, th2):\n",
    "    der = 0\n",
    "    for x, y in zip(X, Y):\n",
    "        der -= (y-(th1*x**2+th2))*x**2\n",
    "    return der\n",
    "\n",
    "def der_fc_th2(X, Y, th1, th2):\n",
    "    der = 0\n",
    "    for x, y in zip(X, Y):\n",
    "        der -= y-(th1*x**2+th2)\n",
    "    return der"
   ]
  },
  {
   "cell_type": "code",
   "execution_count": 5,
   "metadata": {},
   "outputs": [
    {
     "name": "stdout",
     "output_type": "stream",
     "text": [
      "Der1 = -103.3000, Der2 = -56.2000\n",
      "Th1 = 22.6600, Th2 = 10.2400\n",
      "\n",
      "Der1 = 2078.7400, Der2 = 278.0000\n",
      "Th1 = -393.0880, Th2 = -45.3600\n",
      "\n",
      "Der1 = -39442.9640, Der2 = -5764.8720\n",
      "Th1 = 7495.5048, Th2 = 1107.6144\n",
      "\n"
     ]
    }
   ],
   "source": [
    "th1 = 2\n",
    "th2 = -1\n",
    "lr = 0.2\n",
    "for i in range(3):\n",
    "    fc1 = der_fc_th1(X, Y, th1, th2)\n",
    "    fc2 = der_fc_th2(X, Y, th1, th2)\n",
    "    print(\"Der1 = %.4f, Der2 = %.4f\" % (fc1, fc2))\n",
    "    temp1 = th1 - lr*der_fc_th1(X, Y, th1, th2)\n",
    "    temp2 = th2 - lr*der_fc_th2(X, Y, th1, th2)\n",
    "    th1 = temp1\n",
    "    th2 = temp2\n",
    "    print(\"Th1 = %.4f, Th2 = %.4f\\n\" % (th1, th2))"
   ]
  },
  {
   "cell_type": "code",
   "execution_count": 6,
   "metadata": {},
   "outputs": [
    {
     "data": {
      "image/png": "[encoded data removed]",
      "text/plain": [
       "<Figure size 432x288 with 1 Axes>"
      ]
     },
     "metadata": {
      "needs_background": "light"
     },
     "output_type": "display_data"
    }
   ],
   "source": [
    "domx = np.arange(-1,4,0.1)\n",
    "curva = [h(x, th1, th2) for x in domx]\n",
    "plt.plot(domx, curva)\n",
    "plt.scatter(X,Y)\n",
    "plt.show()"
   ]
  },
  {
   "cell_type": "code",
   "execution_count": null,
   "metadata": {},
   "outputs": [],
   "source": []
  }
 ],
 "metadata": {
  "kernelspec": {
   "display_name": "Python 3",
   "language": "python",
   "name": "python3"
  },
  "language_info": {
   "codemirror_mode": {
    "name": "ipython",
    "version": 3
   },
   "file_extension": ".py",
   "mimetype": "text/x-python",
   "name": "python",
   "nbconvert_exporter": "python",
   "pygments_lexer": "ipython3",
   "version": "3.6.8"
  }
 },
 "nbformat": 4,
 "nbformat_minor": 2
}
